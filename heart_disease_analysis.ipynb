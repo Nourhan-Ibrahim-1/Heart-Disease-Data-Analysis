{
 "cells": [
  {
   "cell_type": "code",
   "execution_count": null,
   "metadata": {},
   "outputs": [],
   "source": [
    "import pandas as pd\n",
    "import numpy as np\n",
    "import matplotlib.pyplot as plt\n",
    "import seaborn as sns"
   ]
  },
  {
   "cell_type": "code",
   "execution_count": null,
   "metadata": {},
   "outputs": [],
   "source": [
    "df = pd.read_csv('heart.csv')\n"
   ]
  },
  {
   "cell_type": "code",
   "execution_count": null,
   "metadata": {},
   "outputs": [],
   "source": [
    "print(\"Columns:\", df.columns)\n",
    "\n",
    "print(\"First 5 rows:\\n\", df.head())\n",
    "print(\"Last 5 rows:\\n\", df.tail())"
   ]
  },
  {
   "cell_type": "code",
   "execution_count": null,
   "metadata": {},
   "outputs": [],
   "source": [
    "print(\"Descriptive Statistics:\\n\", df.describe())\n"
   ]
  },
  {
   "cell_type": "code",
   "execution_count": null,
   "metadata": {},
   "outputs": [],
   "source": [
    "print(\"Missing values before imputation:\\n\", df.isnull().sum())\n"
   ]
  },
  {
   "cell_type": "code",
   "execution_count": null,
   "metadata": {},
   "outputs": [],
   "source": [
    "df.fillna(df.mean(), inplace=True)\n"
   ]
  },
  {
   "cell_type": "code",
   "execution_count": null,
   "metadata": {},
   "outputs": [],
   "source": [
    "print(\"Missing values after imputation:\\n\", df.isnull().sum())\n"
   ]
  },
  {
   "cell_type": "code",
   "execution_count": null,
   "metadata": {},
   "outputs": [],
   "source": [
    "Q1 = df['chol'].quantile(0.25)\n",
    "Q3 = df['chol'].quantile(0.75)\n",
    "IQR = Q3 - Q1\n",
    "df = df[~((df['chol'] < (Q1 - 1.5 * IQR)) | (df['chol'] > (Q3 + 1.5 * IQR)))]\n"
   ]
  },
  {
   "cell_type": "code",
   "execution_count": null,
   "metadata": {},
   "outputs": [],
   "source": [
    "print(\"Data shape after cleaning:\", df.shape)\n"
   ]
  },
  {
   "cell_type": "code",
   "execution_count": null,
   "metadata": {},
   "outputs": [],
   "source": [
    "mean_chol = df['chol'].mean()\n",
    "median_chol = df['chol'].median()\n",
    "std_chol = df['chol'].std()\n",
    "\n",
    "print(f\"Mean Cholesterol: {mean_chol}, Median Cholesterol: {median_chol}, Std Dev Cholesterol: {std_chol}\")\n"
   ]
  },
  {
   "cell_type": "code",
   "execution_count": null,
   "metadata": {},
   "outputs": [],
   "source": [
    "mean_bp_with_disease = df[df['target'] == 1]['trestbps'].mean()\n",
    "mean_bp_without_disease = df[df['target'] == 0]['trestbps'].mean()\n",
    "\n",
    "print(f\"Mean BP with disease: {mean_bp_with_disease}, Mean BP without disease: {mean_bp_without_disease}\")\n"
   ]
  },
  {
   "cell_type": "code",
   "execution_count": null,
   "metadata": {},
   "outputs": [],
   "source": [
    "max_heart_rate = df['thalach'].max()\n",
    "min_heart_rate = df['thalach'].min()\n",
    "\n",
    "print(f\"Max Heart Rate: {max_heart_rate}, Min Heart Rate: {min_heart_rate}\")"
   ]
  },
  {
   "cell_type": "code",
   "execution_count": null,
   "metadata": {},
   "outputs": [],
   "source": [
    "sorted_by_chol = df.sort_values(by='chol', ascending=False)\n",
    "print(\"Top 5 patients with highest cholesterol:\\n\", sorted_by_chol.head())"
   ]
  },
  {
   "cell_type": "code",
   "execution_count": null,
   "metadata": {},
   "outputs": [],
   "source": [
    "high_chol_patients = df[df['chol'] > 300]\n",
    "print(f\"Patients with cholesterol > 300: {len(high_chol_patients)}\")\n"
   ]
  },
  {
   "cell_type": "code",
   "execution_count": null,
   "metadata": {},
   "outputs": [],
   "source": [
    "older_patients_with_ecg = df[(df['age'] > 60) & (df['restecg'] > 0)]\n",
    "print(f\"Patients older than 60 with abnormal ECG: {len(older_patients_with_ecg)}\")"
   ]
  },
  {
   "cell_type": "code",
   "execution_count": null,
   "metadata": {},
   "outputs": [],
   "source": [
    "plt.figure(figsize=(6, 4))\n",
    "sns.histplot(df['chol'], kde=True)\n",
    "plt.title('Cholesterol Distribution')\n",
    "plt.xlabel('Cholesterol')\n",
    "plt.ylabel('Frequency')\n",
    "plt.show()"
   ]
  },
  {
   "cell_type": "code",
   "execution_count": null,
   "metadata": {},
   "outputs": [],
   "source": [
    "plt.figure(figsize=(6, 4))\n",
    "sns.scatterplot(x='age', y='thalach', data=df)\n",
    "plt.title('Age vs Max Heart Rate')\n",
    "plt.xlabel('Age')\n",
    "plt.ylabel('Max Heart Rate')\n",
    "plt.show()"
   ]
  },
  {
   "cell_type": "code",
   "execution_count": null,
   "metadata": {},
   "outputs": [],
   "source": [
    "plt.figure(figsize=(6, 4))\n",
    "sns.countplot(x='target', data=df)\n",
    "plt.title('Patients with and without Heart Disease')\n",
    "plt.xlabel('Heart Disease (0 = No, 1 = Yes)')\n",
    "plt.ylabel('Count')\n",
    "plt.show()\n"
   ]
  },
  {
   "cell_type": "code",
   "execution_count": null,
   "metadata": {},
   "outputs": [],
   "source": [
    "from mpl_toolkits.mplot3d import Axes3D\n",
    "\n",
    "fig = plt.figure(figsize=(8, 6))\n",
    "ax = fig.add_subplot(111, projection='3d')\n",
    "ax.scatter(df['chol'], df['age'], df['target'], c=df['target'], cmap='coolwarm')\n",
    "ax.set_xlabel('Cholesterol')\n",
    "ax.set_ylabel('Age')\n",
    "ax.set_zlabel('Heart Disease')\n",
    "plt.title('3D Plot of Cholesterol, Age and Heart Disease')\n",
    "plt.show()"
   ]
  },
  {
   "cell_type": "code",
   "execution_count": null,
   "metadata": {},
   "outputs": [],
   "source": [
    "cp_counts = df['cp'].value_counts()\n",
    "plt.figure(figsize=(6, 4))\n",
    "plt.pie(cp_counts, labels=cp_counts.index, autopct='%1.1f%%', startangle=140)\n",
    "plt.title('Proportion of Chest Pain Types')\n",
    "plt.show()"
   ]
  }
 ],
 "metadata": {
  "kernelspec": {
   "display_name": "Python 3",
   "language": "python",
   "name": "python3"
  },
  "language_info": {
   "codemirror_mode": {
    "name": "ipython",
    "version": 3
   },
   "file_extension": ".py",
   "mimetype": "text/x-python",
   "name": "python",
   "nbconvert_exporter": "python",
   "pygments_lexer": "ipython3",
   "version": "3.12.4"
  }
 },
 "nbformat": 4,
 "nbformat_minor": 2
}
